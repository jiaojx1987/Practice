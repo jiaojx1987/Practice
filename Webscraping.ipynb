{
  "nbformat": 4,
  "nbformat_minor": 0,
  "metadata": {
    "colab": {
      "provenance": [],
      "authorship_tag": "ABX9TyP0z17WGM67URjJYR27Uhve",
      "include_colab_link": true
    },
    "kernelspec": {
      "name": "python3",
      "display_name": "Python 3"
    },
    "language_info": {
      "name": "python"
    }
  },
  "cells": [
    {
      "cell_type": "markdown",
      "metadata": {
        "id": "view-in-github",
        "colab_type": "text"
      },
      "source": [
        "<a href=\"https://colab.research.google.com/github/jiaojx1987/Practice/blob/main/Webscraping.ipynb\" target=\"_parent\"><img src=\"https://colab.research.google.com/assets/colab-badge.svg\" alt=\"Open In Colab\"/></a>"
      ]
    },
    {
      "cell_type": "markdown",
      "source": [
        "Consider that you have been hired by a Multiplex management organization to extract the information of the top 50 movies with the best average rating from the web link shared below."
      ],
      "metadata": {
        "id": "WastjH1jzTDG"
      }
    },
    {
      "cell_type": "markdown",
      "source": [
        "# Objectives\n",
        "By the end of this lab, you will be able to:\n",
        "\n",
        "*  Use the `requests` and `BeautifulSoup` libraries to extract the contents of a web page\n",
        "\n",
        "*  Analyze the `HTML` code of a webpage to find the relevant information\n",
        "\n",
        "*  Extract the relevant information and save it in the required form"
      ],
      "metadata": {
        "id": "70jkAAn2zf3U"
      }
    },
    {
      "cell_type": "markdown",
      "source": [
        "Consider that you have been hired by a Multiplex management organization to extract the information of the top 50 movies with the best average rating from the web link shared below.\n",
        "\n",
        "```\n",
        "https://web.archive.org/web/20230902185655/https://en.everybodywiki.com/100_Most_Highly-Ranked_Films\n",
        "```\n",
        "The information required is `Average Rank`, `Film`, and `Year`.\n",
        "You are required to write a Python script `webscraping_movies.py` that extracts the information and saves it to a `CSV` file `top_50_films.csv`. You are also required to save the same information to a database `Movies.db` under the table name `Top_50`."
      ],
      "metadata": {
        "id": "QwzqG-Cs1S3T"
      }
    },
    {
      "cell_type": "code",
      "source": [
        "#pip install bs4"
      ],
      "metadata": {
        "id": "MZP6CMK72fXv"
      },
      "execution_count": null,
      "outputs": []
    },
    {
      "cell_type": "code",
      "source": [
        "import sys\n",
        "import pandas as pd\n",
        "import bs4 as bs"
      ],
      "metadata": {
        "id": "qTTpFuSh1YXu"
      },
      "execution_count": 1,
      "outputs": []
    },
    {
      "cell_type": "code",
      "source": [
        "print(sys.version)\n",
        "print(sys.executable)"
      ],
      "metadata": {
        "colab": {
          "base_uri": "https://localhost:8080/"
        },
        "id": "S0Fo3Xx72GP_",
        "outputId": "1f752294-9774-4ed3-c38a-e2567389b9ee"
      },
      "execution_count": null,
      "outputs": [
        {
          "output_type": "stream",
          "name": "stdout",
          "text": [
            "3.10.12 (main, Jun 11 2023, 05:26:28) [GCC 11.4.0]\n",
            "/usr/bin/python3\n"
          ]
        }
      ]
    },
    {
      "cell_type": "markdown",
      "source": [
        "Initial steps\n",
        "You require the following libraries for this lab.\n",
        "\n",
        "1. `pandas` library for data storage and manipulation.\n",
        "2. `BeautifulSoup` library for interpreting the `HTML` document.\n",
        "3. `requests` library to communicate with the web page.\n",
        "4. `sqlite3` for creating the database instance.\n",
        "\n",
        "While `requests` and `sqlite3` come bundled with `Python3`, you need to install `pandas` and `BeautifulSoup` libraries to the IDE.\n",
        "\n",
        "For this, run the following commands in a terminal window.\n",
        "```\n",
        "python3.11 -m pip install pandas\n",
        "python3.11 -m pip install bs4\n",
        "```\n",
        "Copied!Executed!\n",
        "Now, create a new file by the name of `webscraping_movies.py` in the path `/home/project/`.\n",
        "\n",
        "You will write all of your code in this file."
      ],
      "metadata": {
        "id": "wT9ay_sB3tkW"
      }
    },
    {
      "cell_type": "markdown",
      "source": [
        "# Code setup\n",
        "To create a Python script, call the relevant libraries and the initializations as a first step.\n",
        "\n",
        "## Importing Libraries\n",
        "Import the following four libraries by adding lines of code noted below to your `webscraping_movies.py` file.\n",
        "\n"
      ],
      "metadata": {
        "id": "l6s2U0qr4Tao"
      }
    },
    {
      "cell_type": "code",
      "source": [
        "import requests\n",
        "import sqlite3\n",
        "import pandas as pd\n",
        "from bs4 import BeautifulSoup"
      ],
      "metadata": {
        "id": "elGiy4EX_iOr"
      },
      "execution_count": 2,
      "outputs": []
    },
    {
      "cell_type": "markdown",
      "source": [
        "##Initialization of known entities\n",
        "You must declare a few entities at the beginning. For example, you know the required `URL`, the `CSV` name for saving the record, the database name, and the table name for storing the record. You also know the entities to be saved. Additionally, since you require only the top 50 results, you will require a loop counter initialized to 0. You may initialize all these by using the following code in `webscraping_movies.py`:\n",
        "\n",
        "\n"
      ],
      "metadata": {
        "id": "QKKzijfh_poK"
      }
    },
    {
      "cell_type": "code",
      "source": [
        "url = 'https://web.archive.org/web/20230902185655/https://en.everybodywiki.com/100_Most_Highly-Ranked_Films'\n",
        "db_name = 'Movies.db'\n",
        "table_name = 'Top_50'\n",
        "#csv_path = '/home/project/top_50_films.csv'\n",
        "csv_path = '/content/project/top_50_films.csv'\n",
        "df = pd.DataFrame(columns=[\"Average Rank\",\"Film\",\"Year\"])\n",
        "count = 0"
      ],
      "metadata": {
        "id": "bK9hcA5K_WmX"
      },
      "execution_count": 4,
      "outputs": []
    },
    {
      "cell_type": "markdown",
      "source": [
        "##Loading the webpage for Webscraping\n",
        "\n",
        "To access the required information from the web page, you first need to load the entire web page as an `HTML` document in `python` using the `requests.get().text` function and then parse the text in the `HTML` format using `BeautifulSoup` to enable extraction of relevant information.\n",
        "\n",
        "Add the following code to `webscraping_movies.py`:\n",
        "\n"
      ],
      "metadata": {
        "id": "K8S1TLQ8_sZ2"
      }
    },
    {
      "cell_type": "code",
      "source": [
        "html_page = requests.get(url).text\n",
        "data = BeautifulSoup(html_page, 'html.parser')"
      ],
      "metadata": {
        "id": "RrbJsi72_vQ3"
      },
      "execution_count": 5,
      "outputs": []
    },
    {
      "cell_type": "markdown",
      "source": [
        "# Analyzing the HTML code for relevant information\n",
        "Open the web page in a browser and locate the required table by scrolling down to it. Right-click the table and click `Inspect` at the bottom of the menu, as shown in the image below.\n",
        "\n",
        "This opens the `HTML` code for the page and takes you directly to the point where the definition of the table begins. To check, take your mouse pointer to the `tbody` tag in the `HTML` code and see that the table is highlighted in the page section.\n",
        "\n",
        "Notice that all rows under this table are mentioned as `tr` objects under the table. Clicking one of them would show that the data in each row is further saved as a `td` object, as seen in the image above. You require the information under the first three headers of this stored data.\n",
        "\n",
        "It is also important to note that this is the first table on the page. You must identify the required table when extracting information.\n",
        "\n",
        "Previous\n"
      ],
      "metadata": {
        "id": "TAMls20R5j_5"
      }
    },
    {
      "cell_type": "markdown",
      "source": [
        "# Scraping of required information\n",
        "You now need to write the loop to extract the appropriate information from the web page. The rows of the table needed can be accessed using the find_all() function with the `BeautifulSoup` object using the statements below.\n",
        "\n",
        "```\n",
        "1 tables = data.find_all('tbody')\n",
        "2 rows = tables[0].find_all('tr')\n",
        "```\n",
        "\n",
        "Here, the variable `tables` gets the body of all the tables in the web page and the variable `rows` gets all the rows of the first table.\n",
        "\n",
        "You can now iterate over the rows to find the required data. Use the code shown below to extract the information.\n",
        "\n",
        "```\n",
        "for row in rows:\n",
        "    if count<50:\n",
        "        col = row.find_all('td')\n",
        "        if len(col)!=0:\n",
        "            data_dict = {\"Average Rank\": col[0].contents[0],\n",
        "                         \"Film\": col[1].contents[0],\n",
        "                         \"Year\": col[2].contents[0]}\n",
        "            df1 = pd.DataFrame(data_dict, index=[0])\n",
        "            df = pd.concat([df,df1], ignore_index=True)\n",
        "            count+=1\n",
        "    else:\n",
        "        break\n",
        "```\n",
        "The code functions as follows.\n",
        "\n",
        "1.   Iterate over the contents of the variable `rows`.\n",
        "2.   Check for the loop counter to restrict to 50 entries.\n",
        "3.   Extract all the `td` data objects in the row and save them to `col`.\n",
        "4.   Check if the length of `col` is 0, that is, if there is no data in a current row. This is important since, many timesm there are merged rows that are not apparent in the web page appearance.\n",
        "5.   Create a dictionary `data_dict` with the keys same as the columns of the dataframe created for recording the output earlier and corresponding values from the first three headers of data.\n",
        "6.   Convert the dictionary to a dataframe and concatenate it with the existing one. This way, the data keeps getting appended to the dataframe with every iteration of the loop.\n",
        "7.   Increment the loop counter.\n",
        "8.   Once the counter hits 50, stop iterating over rows and break the loop.\n",
        "\n",
        "Print the contents of the dataframe using the following:\n",
        "```\n",
        "print(df)\n",
        "```"
      ],
      "metadata": {
        "id": "i6sLwaSO9Vle"
      }
    },
    {
      "cell_type": "markdown",
      "source": [
        "# Storing the data\n",
        "After the dataframe has been created, you can save it to a CSV file using the following command:\n",
        "\n",
        "```\n",
        "df.to_csv(csv_path)\n",
        "```\n",
        "\n",
        "Remember that you defined the variable `csv_path` earlier.\n",
        "\n",
        "To store the required data in a database, you first need to initialize a connection to the database, save the dataframe as a table, and then close the connection. This can be done using the following code:\n",
        "\n",
        "```\n",
        "conn = sqlite3.connect(db_name)\n",
        "df.to_sql(table_name, conn, if_exists='replace', index=False)\n",
        "conn.close()\n",
        "```\n",
        "\n",
        "This database can now be used to retrieve the relevant information using SQL queries. You will learn how to do that later in the course."
      ],
      "metadata": {
        "id": "e0F4yYUe-e0_"
      }
    },
    {
      "cell_type": "code",
      "source": [
        "########################################################"
      ],
      "metadata": {
        "id": "Gk83khOn-0x9"
      },
      "execution_count": null,
      "outputs": []
    },
    {
      "cell_type": "code",
      "source": [],
      "metadata": {
        "id": "euC5MEk1-s70"
      },
      "execution_count": null,
      "outputs": []
    }
  ]
}