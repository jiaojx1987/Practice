{
  "nbformat": 4,
  "nbformat_minor": 0,
  "metadata": {
    "colab": {
      "provenance": [],
      "authorship_tag": "ABX9TyPbSj25ZN63ijSbkKnX+lrx",
      "include_colab_link": true
    },
    "kernelspec": {
      "name": "python3",
      "display_name": "Python 3"
    },
    "language_info": {
      "name": "python"
    }
  },
  "cells": [
    {
      "cell_type": "markdown",
      "metadata": {
        "id": "view-in-github",
        "colab_type": "text"
      },
      "source": [
        "<a href=\"https://colab.research.google.com/github/jiaojx1987/Practice/blob/main/Accessing_Databases_using_Python_Script.ipynb\" target=\"_parent\"><img src=\"https://colab.research.google.com/assets/colab-badge.svg\" alt=\"Open In Colab\"/></a>"
      ]
    },
    {
      "cell_type": "markdown",
      "source": [
        "Using databases is an important and useful method of sharing information. To preserve repeated storage of the same files containing the required data, it is a good practice to save the said data on a database on a server and access the required subset of information using database management systems.\n",
        "\n",
        "In this lab, you'll learn how to create a database, load data from a CSV file as a table, and then run queries on the data using Python.\n",
        "\n",
        "#Objectives\n",
        "In this lab you'll learn how to:\n",
        "\n",
        "1. Create a database using Python\n",
        "\n",
        "2. Load the data from a CSV file as a table to the database\n",
        "\n",
        "3. Run basic \"queries\" on the database to access the information\n",
        "\n",
        "# Scenario\n",
        "Consider a dataset of employee records that is available with an HR team in a CSV file. As a Data Engineer, you are required to create the database called `STAFF` and load the contents of the CSV file as a table called `INSTRUCTORS`. The headers of the available data are :\n",
        "\n",
        "|Header\t|Description|\n",
        "|:-|:-|\n",
        "|ID |Employee ID|\n",
        "|FNAME|\tFirst Name|\n",
        "|LNAME|\tLast Name|\n",
        "|CITY|\tCity of residence|\n",
        "|CCODE|\tCountry code (2 letters)|"
      ],
      "metadata": {
        "id": "JdsXvsnjHXD8"
      }
    },
    {
      "cell_type": "markdown",
      "source": [
        "Run the following command in the terminal. Make sure the current directory in the terminal window is `/home/project/`."
      ],
      "metadata": {
        "id": "Wa1gDF1YH_2U"
      }
    },
    {
      "cell_type": "code",
      "source": [
        "#wget https://cf-courses-data.s3.us.cloud-object-storage.appdomain.cloud/IBMSkillsNetwork-PY0221EN-Coursera/labs/v2/INSTRUCTOR.csv"
      ],
      "metadata": {
        "id": "Srr7YbdjIzFP"
      },
      "execution_count": null,
      "outputs": []
    },
    {
      "cell_type": "markdown",
      "source": [
        "# Python Scripting: Database initiation\n",
        "Let us first create a database using Python.\n",
        "\n",
        "Open `db_code.py` and import the `sqlite3` library using the below mentioned command.\n",
        "\n",
        "Import the `pandas` library in `db_code.py` using the following code.\n"
      ],
      "metadata": {
        "id": "1XCEr4x4IIDE"
      }
    },
    {
      "cell_type": "code",
      "source": [
        "import sqlite3\n",
        "import pandas as pd"
      ],
      "metadata": {
        "id": "yloIfdnvIPrQ"
      },
      "execution_count": 2,
      "outputs": []
    },
    {
      "cell_type": "markdown",
      "source": [
        "Now, you can use SQLite3 to create and connect your process to a new database `STAFF` using the following statements.\n"
      ],
      "metadata": {
        "id": "25_iW1mIIhte"
      }
    },
    {
      "cell_type": "code",
      "source": [
        "conn = sqlite3.connect('STAFF.db')"
      ],
      "metadata": {
        "id": "RQR8b4xxHwTQ"
      },
      "execution_count": 3,
      "outputs": []
    },
    {
      "cell_type": "markdown",
      "source": [
        "# Python Scripting: Create and Load the table\n",
        "To create a table in the database, you first need to have the attributes of the required table. Attributes are columns of the table. Along with their names, the knowledge of their data types are also required. The attributes for the required tables in this lab were shared in the Lab Scenario.\n",
        "\n",
        "Add the following statements to `db_code.py` to feed the required table name and attribute details for the table."
      ],
      "metadata": {
        "id": "XaWF6u7AJL7P"
      }
    },
    {
      "cell_type": "code",
      "source": [
        "table_name = 'INSTRUCTOR'\n",
        "attribute_list = ['ID', 'FNAME', 'LNAME', 'CITY', 'CCODE']"
      ],
      "metadata": {
        "id": "uFRXJc5wJJhV"
      },
      "execution_count": 4,
      "outputs": []
    },
    {
      "cell_type": "markdown",
      "source": [
        "## Reading the CSV file\n",
        "Now, to read the CSV using Pandas, you use the `read_csv()` function. Since this CSV does not contain headers, you can use the keys of the `attribute_dict` dictionary as a list to assign headers to the data. For this, add the commands below to `db_code.py`."
      ],
      "metadata": {
        "id": "IGwzR9AgJWkD"
      }
    },
    {
      "cell_type": "code",
      "source": [
        "#file_path = '/home/project/INSTRUCTOR.csv'\n",
        "file_path = '/content/INSTRUCTOR.csv'\n",
        "df = pd.read_csv(file_path, names = attribute_list)"
      ],
      "metadata": {
        "id": "vkCi7Hx-JEAy"
      },
      "execution_count": 5,
      "outputs": []
    },
    {
      "cell_type": "markdown",
      "source": [
        "## Loading the data to a table\n",
        "The `pandas` library provides easy loading of its dataframes directly to the database. For this, you may use the `to_sql()` method of the dataframe object.\n",
        "\n",
        "However, while you load the data for creating the table, you need to be careful if a table with the same name already exists in the database. If so, and it isn't required anymore, the tables should be replaced with the one you are loading here. You may also need to append some information to an existing table. For this purpose, `to_sql()` function uses the argument `if_exists`. The possible usage of `if_exists` is tabulated below.\n",
        "\n",
        "|Argument usage|Description|\n",
        "|:-:|:-|\n",
        "|if_exists = 'fail'|Default. The command doesn't work if a table with the same name exists in the database.|\n",
        "|if_exists = 'replace'|The command replaces the existing table in the database with the same name.|\n",
        "|if_exists = 'append'|The command appends the new data to the existing table with the same name.|\n",
        "\n",
        "As you need to create a fresh table upon execution, add the following commands to the code. The print command is optional, but helps identify the completion of the steps of code until this point."
      ],
      "metadata": {
        "id": "quiqsLlpJV2y"
      }
    },
    {
      "cell_type": "code",
      "source": [
        "df.to_sql(table_name, conn, if_exists = 'replace', index =False)\n",
        "print('Table is ready')"
      ],
      "metadata": {
        "colab": {
          "base_uri": "https://localhost:8080/"
        },
        "id": "UcTti5qHKOor",
        "outputId": "334c9eed-4ac6-483c-c6a7-531fd740deb8"
      },
      "execution_count": 6,
      "outputs": [
        {
          "output_type": "stream",
          "name": "stdout",
          "text": [
            "Table is ready\n"
          ]
        }
      ]
    },
    {
      "cell_type": "markdown",
      "source": [
        "# Python Scripting: Running basic queries on data\n",
        "Now that the data is uploaded to the table in the database, anyone with access to the database can retrieve this data by executing SQL queries.\n",
        "\n",
        "Some basic SQL queries to test this data are `SELECT` queries for viewing data, and `COUNT` query to count the number of entries.\n",
        "\n",
        "SQL queries can be executed on the data using the `read_sql` function in `pandas`.\n",
        "\n",
        "Now, run the following tasks for data retrieval on the created database.\n",
        "\n",
        "Viewing all the data in the table.\n",
        "Add the following lines of code to `db_code.py`\n"
      ],
      "metadata": {
        "id": "TjfsL0X-LpRf"
      }
    },
    {
      "cell_type": "code",
      "source": [
        "query_statement = f\"SELECT * FROM {table_name}\"\n",
        "query_output = pd.read_sql(query_statement, conn)\n",
        "print(query_statement)\n",
        "print(query_output)"
      ],
      "metadata": {
        "colab": {
          "base_uri": "https://localhost:8080/"
        },
        "id": "6VlAzKo1Lbvl",
        "outputId": "26d7afa0-a00b-4386-da8a-c5a391f820fc"
      },
      "execution_count": 7,
      "outputs": [
        {
          "output_type": "stream",
          "name": "stdout",
          "text": [
            "SELECT * FROM INSTRUCTOR\n",
            "    ID    FNAME      LNAME      CITY CCODE\n",
            "0    1      Rav      Ahuja   TORONTO    CA\n",
            "1    2     Raul      Chong   Markham    CA\n",
            "2    3     Hima  Vasudevan   Chicago    US\n",
            "3    4     John     Thomas  Illinois    US\n",
            "4    5    Alice      James  Illinois    US\n",
            "5    6    Steve      Wells  Illinois    US\n",
            "6    7  Santosh      Kumar  Illinois    US\n",
            "7    8    Ahmed    Hussain  Illinois    US\n",
            "8    9    Nancy      Allen  Illinois    US\n",
            "9   10     Mary     Thomas  Illinois    US\n",
            "10  11  Bharath      Gupta  Illinois    US\n",
            "11  12   Andrea      Jones  Illinois    US\n",
            "12  13      Ann      Jacob  Illinois    US\n",
            "13  14     Amit      Kumar  NewDelhi    IN\n"
          ]
        }
      ]
    },
    {
      "cell_type": "markdown",
      "source": [
        "\n",
        "Viewing only FNAME column of data.\n",
        "Add the following lines of code to db_code.py\n"
      ],
      "metadata": {
        "id": "CLdKu7a3L9JN"
      }
    },
    {
      "cell_type": "code",
      "source": [
        "query_statement = f\"SELECT FNAME FROM {table_name}\"\n",
        "query_output = pd.read_sql(query_statement, conn)\n",
        "print(query_statement)\n",
        "print(query_output)"
      ],
      "metadata": {
        "colab": {
          "base_uri": "https://localhost:8080/"
        },
        "id": "h9MPouLWMAup",
        "outputId": "ee14616c-e171-4044-a710-bd869bee23a3"
      },
      "execution_count": 8,
      "outputs": [
        {
          "output_type": "stream",
          "name": "stdout",
          "text": [
            "SELECT FNAME FROM INSTRUCTOR\n",
            "      FNAME\n",
            "0       Rav\n",
            "1      Raul\n",
            "2      Hima\n",
            "3      John\n",
            "4     Alice\n",
            "5     Steve\n",
            "6   Santosh\n",
            "7     Ahmed\n",
            "8     Nancy\n",
            "9      Mary\n",
            "10  Bharath\n",
            "11   Andrea\n",
            "12      Ann\n",
            "13     Amit\n"
          ]
        }
      ]
    },
    {
      "cell_type": "markdown",
      "source": [
        "\n",
        "Viewing the total number of entries in the table.\n",
        "Add the following lines of code to db_code.py\n"
      ],
      "metadata": {
        "id": "C6d6VHNwMD5R"
      }
    },
    {
      "cell_type": "code",
      "source": [
        "query_statement = f\"SELECT COUNT(*) FROM {table_name}\"\n",
        "query_output = pd.read_sql(query_statement, conn)\n",
        "print(query_statement)\n",
        "print(query_output)"
      ],
      "metadata": {
        "colab": {
          "base_uri": "https://localhost:8080/"
        },
        "id": "NJmOQUa5MGCU",
        "outputId": "e0d7c1fb-5eaa-4b06-f854-ea344988fadc"
      },
      "execution_count": 9,
      "outputs": [
        {
          "output_type": "stream",
          "name": "stdout",
          "text": [
            "SELECT COUNT(*) FROM INSTRUCTOR\n",
            "   COUNT(*)\n",
            "0        14\n"
          ]
        }
      ]
    },
    {
      "cell_type": "markdown",
      "source": [
        "\n",
        "Now try appending some data to the table. Consider the following.\n",
        "a. Assume the ID is 100.\n",
        "b. Assume the first name, FNAME, is John.\n",
        "c. Assume the last name as LNAME, Doe.\n",
        "d. Assume the city of residence, CITY is Paris.\n",
        "e. Assume the country code, CCODE is FR.\n",
        "\n",
        "Use the following statements to create the dataframe of the new data.\n"
      ],
      "metadata": {
        "id": "FiUaNa9jMI9E"
      }
    },
    {
      "cell_type": "code",
      "source": [
        "data_dict = {'ID' : [100],\n",
        "            'FNAME' : ['John'],\n",
        "            'LNAME' : ['Doe'],\n",
        "            'CITY' : ['Paris'],\n",
        "            'CCODE' : ['FR']}\n",
        "data_append = pd.DataFrame(data_dict)\n"
      ],
      "metadata": {
        "id": "AdsPitxZMNJm"
      },
      "execution_count": 10,
      "outputs": []
    },
    {
      "cell_type": "markdown",
      "source": [
        "\n",
        "Now use the following statement to append the data to the INSTRUCTOR table.\n"
      ],
      "metadata": {
        "id": "PfL6ZahMMPRS"
      }
    },
    {
      "cell_type": "code",
      "source": [
        "data_append.to_sql(table_name, conn, if_exists = 'append', index =False)\n",
        "print('Data appended successfully')"
      ],
      "metadata": {
        "colab": {
          "base_uri": "https://localhost:8080/"
        },
        "id": "RJFpf-5IMGIb",
        "outputId": "731cde26-4b46-49b0-9879-abb92c54dd43"
      },
      "execution_count": 11,
      "outputs": [
        {
          "output_type": "stream",
          "name": "stdout",
          "text": [
            "Data appended successfully\n"
          ]
        }
      ]
    },
    {
      "cell_type": "markdown",
      "source": [
        "Now, repeat the `COUNT` query. You will observe an increase by 1 in the output of the first `COUNT` query and the second one.\n",
        "\n",
        "Before proceeding with the final execution, you need to add the command to close the connection to the database after all the queries are executed.\n",
        "\n",
        "Add the following line at the end of `db_code.py` to close the connection to the database.\n"
      ],
      "metadata": {
        "id": "bcbdFQx-RVE-"
      }
    },
    {
      "cell_type": "code",
      "source": [
        "conn.close()"
      ],
      "metadata": {
        "id": "oZjsTHhgRTVP"
      },
      "execution_count": null,
      "outputs": []
    },
    {
      "cell_type": "markdown",
      "source": [
        "Execute db_code.py from the terminal window using the following command.\n",
        "```\n",
        "python3.11 db_code.py\n",
        "```"
      ],
      "metadata": {
        "id": "9vjDirhzRnIc"
      }
    },
    {
      "cell_type": "code",
      "source": [
        "################################################"
      ],
      "metadata": {
        "id": "IB70l4ZPRrc2"
      },
      "execution_count": null,
      "outputs": []
    },
    {
      "cell_type": "markdown",
      "source": [
        "```\n",
        "import sqlite3\n",
        "import pandas as pd\n",
        "\n",
        "# Connect to the SQLite3 service\n",
        "conn = sqlite3.connect('STAFF.db')\n",
        "\n",
        "# Define table parameters\n",
        "table_name = 'INSTRUCTOR'\n",
        "attribute_list = ['ID', 'FNAME', 'LNAME', 'CITY', 'CCODE']\n",
        "\n",
        "# Read the CSV data\n",
        "file_path = '/home/project/INSTRUCTOR.csv'\n",
        "df = pd.read_csv(file_path, names = attribute_list)\n",
        "\n",
        "# Load the CSV to the database\n",
        "df.to_sql(table_name, conn, if_exists = 'replace', index = False)\n",
        "print('Table is ready')\n",
        "\n",
        "# Query 1: Display all rows of the table\n",
        "query_statement = f\"SELECT * FROM {table_name}\"\n",
        "query_output = pd.read_sql(query_statement, conn)\n",
        "print(query_statement)\n",
        "print(query_output)\n",
        "\n",
        "# Query 2: Display only the FNAME column for the full table.\n",
        "query_statement = f\"SELECT FNAME FROM {table_name}\"\n",
        "query_output = pd.read_sql(query_statement, conn)\n",
        "print(query_statement)\n",
        "print(query_output)\n",
        "\n",
        "# Query 3: Display the count of the total number of rows.\n",
        "query_statement = f\"SELECT COUNT(*) FROM {table_name}\"\n",
        "query_output = pd.read_sql(query_statement, conn)\n",
        "print(query_statement)\n",
        "print(query_output)\n",
        "\n",
        "# Define data to be appended\n",
        "data_dict = {'ID' : [100],\n",
        "            'FNAME' : ['John'],\n",
        "            'LNAME' : ['Doe'],\n",
        "            'CITY' : ['Paris'],\n",
        "            'CCODE' : ['FR']}\n",
        "data_append = pd.DataFrame(data_dict)\n",
        "\n",
        "# Append data to the table\n",
        "data_append.to_sql(table_name, conn, if_exists = 'append', index = False)\n",
        "print('Data appended successfully')\n",
        "\n",
        "# Query 4: Display the count of the total number of rows.\n",
        "query_statement = f\"SELECT COUNT(*) FROM {table_name}\"\n",
        "query_output = pd.read_sql(query_statement, conn)\n",
        "print(query_statement)\n",
        "print(query_output)\n",
        "\n",
        "# Close the connection\n",
        "conn.close()\n",
        "```"
      ],
      "metadata": {
        "id": "Vu8Tj72jRyHi"
      }
    },
    {
      "cell_type": "code",
      "source": [],
      "metadata": {
        "id": "Fe4wEDSaR3aG"
      },
      "execution_count": null,
      "outputs": []
    }
  ]
}