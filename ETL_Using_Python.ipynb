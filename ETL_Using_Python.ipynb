{
  "nbformat": 4,
  "nbformat_minor": 0,
  "metadata": {
    "colab": {
      "provenance": [],
      "authorship_tag": "ABX9TyN/vbd9QHMSGxg+UOYa6xY9",
      "include_colab_link": true
    },
    "kernelspec": {
      "name": "python3",
      "display_name": "Python 3"
    },
    "language_info": {
      "name": "python"
    }
  },
  "cells": [
    {
      "cell_type": "markdown",
      "metadata": {
        "id": "view-in-github",
        "colab_type": "text"
      },
      "source": [
        "<a href=\"https://colab.research.google.com/github/jiaojx1987/Practice/blob/main/ETL_Using_Python.ipynb\" target=\"_parent\"><img src=\"https://colab.research.google.com/assets/colab-badge.svg\" alt=\"Open In Colab\"/></a>"
      ]
    },
    {
      "cell_type": "code",
      "execution_count": null,
      "metadata": {
        "id": "8kEeLXWo2Pf0"
      },
      "outputs": [],
      "source": []
    },
    {
      "cell_type": "markdown",
      "source": [
        "# Introduction\n",
        "Extract, Transform and Load (ETL) operations are of extreme importance in the role of a Data engineer. A data engineer extracts data from multiple sources and different file formats, transforms the extracted data to predefined settings and then loads the data to a database for further processing. In this lab, you will get hands-on practice of performing these operations.\n",
        "\n",
        "# Objectives\n",
        "After completing this lab, you will be able to:\n",
        "\n",
        "Read CSV, JSON, and XML file types.\n",
        "Extract the required data from the different file types.\n",
        "Transform data to the required format.\n",
        "Save the transformed data in a ready-to-load format, which can be loaded into an RDBMS.\n",
        "\n"
      ],
      "metadata": {
        "id": "Hx7nTHlK2UzA"
      }
    },
    {
      "cell_type": "markdown",
      "source": [
        "# Gather the data files"
      ],
      "metadata": {
        "id": "tNV2l47b3yQG"
      }
    },
    {
      "cell_type": "code",
      "source": [
        "# run in the terminal\n",
        "# wget https://cf-courses-data.s3.us.cloud-object-storage.appdomain.cloud/IBMDeveloperSkillsNetwork-PY0221EN-SkillsNetwork/labs/module%206/Lab%20-%20Extract%20Transform%20Load/data/source.zip\n",
        "# unzip source.zip\n",
        "# python3.11 -m pip install pandas"
      ],
      "metadata": {
        "id": "iHksU4pD2YFa"
      },
      "execution_count": 2,
      "outputs": []
    },
    {
      "cell_type": "code",
      "source": [
        "import glob\n",
        "import pandas as pd\n",
        "import xml.etree.ElementTree as ET\n",
        "from datetime import datetime"
      ],
      "metadata": {
        "id": "cpoDHpPY3pfr"
      },
      "execution_count": null,
      "outputs": []
    },
    {
      "cell_type": "markdown",
      "source": [
        "Note that you import only the ElementTree function from the **xml.etree** library because you require that function to parse the data from an **XML** file format.\n",
        "\n",
        "You also require two file paths that will be available globally in the code for all functions. These are **transformed_data.csv**, to store the final output data that you can load to a database, and **log_file.txt**, that stores all the logs.\n",
        "\n",
        "Introduce these paths in the code by adding the following statements:"
      ],
      "metadata": {
        "id": "fXo9CnyA4UCP"
      }
    },
    {
      "cell_type": "code",
      "source": [
        "log_file = \"log_file.txt\"\n",
        "target_file = \"transformed_data.csv\""
      ],
      "metadata": {
        "id": "ks9PQMud4KRu"
      },
      "execution_count": null,
      "outputs": []
    },
    {
      "cell_type": "markdown",
      "source": [
        "# Task 1: Extraction\n",
        "Next, you will develop the functions to extract the data from different file formats. As there will be different functions for the file formats, you'll have to write one function each for the **.csv**, **.json**, and the **.xml** filetypes.\n",
        "\n",
        "You can name these three functions as **extract_from_csv()**, **extract_from_json()**, and **extract_from_xml()**. You need to pass the data file as an argument, **file_to_process**, to each function.\n",
        "\n",
        "To extract from a **CSV** file, you can define the function **extract_from_csv()**as follows using the **pandas** function read_csv:"
      ],
      "metadata": {
        "id": "pxgf3cgU4aLq"
      }
    },
    {
      "cell_type": "code",
      "source": [
        "def extract_from_csv(file_to_process):\n",
        "  dataframe = pd.read_csv(file_to_process)\n",
        "  return dataframe"
      ],
      "metadata": {
        "id": "6V49rxR35op-"
      },
      "execution_count": null,
      "outputs": []
    },
    {
      "cell_type": "markdown",
      "source": [
        "To extract from a **JSON** file, you can define the function **extract_from_json()**using the **pandas** function **read_json**. It requires an extra argument **lines=True** to enable the function to read the file as a **JSON** object on line to line basis as follows."
      ],
      "metadata": {
        "id": "JDeVeTSq5z1R"
      }
    },
    {
      "cell_type": "code",
      "source": [
        "def extract_from_json(file_to_process):\n",
        "    dataframe = pd.read_json(file_to_process, lines=True)\n",
        "    return dataframe"
      ],
      "metadata": {
        "id": "HTj67cwY5zGy"
      },
      "execution_count": null,
      "outputs": []
    },
    {
      "cell_type": "markdown",
      "source": [
        "To extract from an **XML** file, you need first to parse the data from the file using the ElementTree function. You can then extract relevant information from this data and append it to a pandas dataframe as follows.\n",
        "\n",
        "Note: You must know the headers of the extracted data to write this function. In this data, you extract \"name\", \"height\", and \"weight\" headers for different persons.\n",
        "\n",
        "This function can be written as follows:"
      ],
      "metadata": {
        "id": "3BrUyVda6Ist"
      }
    },
    {
      "cell_type": "code",
      "source": [
        "def extract_from_xml(file_to_process):\n",
        "    dataframe = pd.DataFrame(columns=[\"name\", \"height\", \"weight\"])\n",
        "    tree = ET.parse(file_to_process)\n",
        "    root = tree.getroot()\n",
        "    for person in root:\n",
        "        name = person.find(\"name\").text\n",
        "        height = float(person.find(\"height\").text)\n",
        "        weight = float(person.find(\"weight\").text)\n",
        "        dataframe = pd.concat([dataframe, pd.DataFrame([{\"name\":name, \"height\":height, \"weight\":weight}])], ignore_index=True)\n",
        "    return dataframe"
      ],
      "metadata": {
        "id": "a6UuELbz6NLV"
      },
      "execution_count": null,
      "outputs": []
    },
    {
      "cell_type": "markdown",
      "source": [
        "Now you need a function to identify which function to call on basis of the filetype of the data file. To call the relevant function, write a function **extract**, which uses the **glob** library to identify the filetype. This can be done as follows:"
      ],
      "metadata": {
        "id": "TtgTjCw66PVD"
      }
    },
    {
      "cell_type": "code",
      "source": [
        "def extract():\n",
        "    extracted_data = pd.DataFrame(columns=['name','height','weight']) # create an empty data frame to hold extracted data\n",
        "\n",
        "    # process all csv files\n",
        "    for csvfile in glob.glob(\"*.csv\"):\n",
        "        extracted_data = pd.concat([extracted_data, pd.DataFrame(extract_from_csv(csvfile))], ignore_index=True)\n",
        "\n",
        "    # process all json files\n",
        "    for jsonfile in glob.glob(\"*.json\"):\n",
        "        extracted_data = pd.concat([extracted_data, pd.DataFrame(extract_from_json(jsonfile))], ignore_index=True)\n",
        "\n",
        "    # process all xml files\n",
        "    for xmlfile in glob.glob(\"*.xml\"):\n",
        "        extracted_data = pd.concat([extracted_data, pd.DataFrame(extract_from_xml(xmlfile))], ignore_index=True)\n",
        "\n",
        "    return extracted_data"
      ],
      "metadata": {
        "id": "-xLFRgLt6Ufj"
      },
      "execution_count": null,
      "outputs": []
    },
    {
      "cell_type": "markdown",
      "source": [
        "# Task 2 - Transformation\n",
        "The height in the extracted data is in inches, and the weight is in pounds. However, for your application, the height is required to be in meters, and the weight is required to be in kilograms, rounded to two decimal places. Therefore, you need to write the function to perform the unit conversion for the two parameters.\n",
        "\n",
        "The name of this function will be **transform()**, and it will receive the extracted dataframe as the input. Since the dataframe is in the form of a dictionary with three keys, \"name\", \"height\", and \"weight\", each of them having a list of values, you can apply the transform function on the entire list at one go.\n",
        "\n",
        "The function can be written as follows:"
      ],
      "metadata": {
        "id": "xeaKU28D6Ykv"
      }
    },
    {
      "cell_type": "code",
      "source": [
        "def transform(data):\n",
        "    '''Convert inches to meters and round off to two decimals\n",
        "    1 inch is 0.0254 meters '''\n",
        "    data['height'] = round(data.height * 0.0254,2)\n",
        "\n",
        "    '''Convert pounds to kilograms and round off to two decimals\n",
        "    1 pound is 0.45359237 kilograms '''\n",
        "    data['weight'] = round(data.weight * 0.45359237,2)\n",
        "\n",
        "    return data"
      ],
      "metadata": {
        "id": "ZetqHlQU6fsx"
      },
      "execution_count": null,
      "outputs": []
    },
    {
      "cell_type": "markdown",
      "source": [
        "# Task 3 - Loading and Logging\n",
        "You need to load the transformed data to a CSV file that you can use to load to a database as per requirement.\n",
        "\n",
        "To load the data, you need a function load_data() that accepts the transformed data as a dataframe and the target_file path. You need to use the to_csv attribute of the dataframe in the function as follows:"
      ],
      "metadata": {
        "id": "ymJIE6Dd6pj0"
      }
    },
    {
      "cell_type": "code",
      "source": [
        "def load_data(target_file, transformed_data):\n",
        "    transformed_data.to_csv(target_file)"
      ],
      "metadata": {
        "id": "HheOOzYK6r-u"
      },
      "execution_count": null,
      "outputs": []
    },
    {
      "cell_type": "markdown",
      "source": [
        "Finally, you need to implement the logging operation to record the progress of the different operations. For this operation, you need to record a message, along with its timestamp, in the **log_file**.\n",
        "\n",
        "To record the message, you need to implement a function **log_progress()** that accepts the log message as the argument. The function captures the current date and time using the **datetime** function from the **datetime** library. The use of this function requires the definition of a date-time format, and you need to convert the timestamp to a string format using the **strftime** attribute. The following code creates the log operation:"
      ],
      "metadata": {
        "id": "l5vcNVW86tCl"
      }
    },
    {
      "cell_type": "code",
      "source": [
        "def log_progress(message):\n",
        "    timestamp_format = '%Y-%h-%d-%H:%M:%S' # Year-Monthname-Day-Hour-Minute-Second\n",
        "    now = datetime.now() # get current timestamp\n",
        "    timestamp = now.strftime(timestamp_format)\n",
        "    with open(log_file,\"a\") as f:\n",
        "        f.write(timestamp + ',' + message + '\\n')"
      ],
      "metadata": {
        "id": "r0pcFaFs66wF"
      },
      "execution_count": null,
      "outputs": []
    },
    {
      "cell_type": "markdown",
      "source": [
        "# Testing ETL operations and log progress\n",
        "Now, test the functions you have developed so far and log your progress along the way. Insert the following lines into your code to complete the process. Note the comments on every step of the code."
      ],
      "metadata": {
        "id": "kbBY2n7p6tHY"
      }
    },
    {
      "cell_type": "code",
      "source": [
        "# Log the initialization of the ETL process\n",
        "log_progress(\"ETL Job Started\")\n",
        "\n",
        "# Log the beginning of the Extraction process\n",
        "log_progress(\"Extract phase Started\")\n",
        "extracted_data = extract()\n",
        "\n",
        "# Log the completion of the Extraction process\n",
        "log_progress(\"Extract phase Ended\")\n",
        "\n",
        "# Log the beginning of the Transformation process\n",
        "log_progress(\"Transform phase Started\")\n",
        "transformed_data = transform(extracted_data)\n",
        "print(\"Transformed Data\")\n",
        "print(transformed_data)\n",
        "\n",
        "# Log the completion of the Transformation process\n",
        "log_progress(\"Transform phase Ended\")\n",
        "\n",
        "# Log the beginning of the Loading process\n",
        "log_progress(\"Load phase Started\")\n",
        "load_data(target_file,transformed_data)\n",
        "\n",
        "# Log the completion of the Loading process\n",
        "log_progress(\"Load phase Ended\")\n",
        "\n",
        "# Log the completion of the ETL process\n",
        "log_progress(\"ETL Job Ended\")"
      ],
      "metadata": {
        "id": "eMWoCPB87EJS"
      },
      "execution_count": null,
      "outputs": []
    },
    {
      "cell_type": "markdown",
      "source": [
        "# Execution of code\n",
        "Execute etl_code.py from a terminal shell using the command"
      ],
      "metadata": {
        "id": "rif7aPlf7PlH"
      }
    },
    {
      "cell_type": "code",
      "source": [
        "# python3.11 etl_code.py"
      ],
      "metadata": {
        "id": "GdkIfGcI7ELJ"
      },
      "execution_count": null,
      "outputs": []
    },
    {
      "cell_type": "markdown",
      "source": [
        "# Practice Exercises\n",
        "Follow the process learned in this lab to perform ETL operations on the data available in the link below."
      ],
      "metadata": {
        "id": "KqtcawWl7Wwg"
      }
    },
    {
      "cell_type": "code",
      "source": [
        "https://cf-courses-data.s3.us.cloud-object-storage.appdomain.cloud/IBMDeveloperSkillsNetwork-PY0221EN-SkillsNetwork/labs/module%206/Lab%20-%20Extract%20Transform%20Load/data/datasource.zip"
      ],
      "metadata": {
        "id": "v4aysEja7YQE"
      },
      "execution_count": null,
      "outputs": []
    },
    {
      "cell_type": "markdown",
      "source": [
        "Complete the following practice exercises:\n",
        "\n",
        "Create a folder **data_source** and use the terminal shell to change the current directory to **\\home\\project\\data_source**. Create a file **etl_practice.py** in this folder.\n",
        "\n",
        "Download and unzip the data available in the link shared above.\n",
        "\n",
        "The data available has four headers: 'car_model', 'year_of_manufacture', 'price', 'fuel'. Implement the extraction process for the **CSV**, **JSON**, and **XML** files.\n",
        "\n",
        "Transform the values under the 'price' header such that they are rounded to 2 decimal places.\n",
        "\n",
        "Implement the loading function for the transformed data to a target file, **transformed_data.csv**.\n",
        "\n",
        "Implement the logging function for the entire process and save it in **log_file.txt**.\n",
        "\n",
        "Test the implemented functions and log the events as done in the lab.\n",
        "\n",
        "Please note that the solutions for this practice exercise are not provided to motivate you to try them yourself. However, feel free to share your opinions on the solutions as well as your questions in the discussion forums."
      ],
      "metadata": {
        "id": "dKJ0wq_C7ZNo"
      }
    }
  ]
}