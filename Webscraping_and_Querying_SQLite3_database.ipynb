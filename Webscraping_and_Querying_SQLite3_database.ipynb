{
  "nbformat": 4,
  "nbformat_minor": 0,
  "metadata": {
    "colab": {
      "provenance": [],
      "authorship_tag": "ABX9TyMZ91EqPurIg9bwlmDBmpIj",
      "include_colab_link": true
    },
    "kernelspec": {
      "name": "python3",
      "display_name": "Python 3"
    },
    "language_info": {
      "name": "python"
    }
  },
  "cells": [
    {
      "cell_type": "markdown",
      "metadata": {
        "id": "view-in-github",
        "colab_type": "text"
      },
      "source": [
        "<a href=\"https://colab.research.google.com/github/jiaojx1987/Practice/blob/main/Webscraping_and_Querying_SQLite3_database.ipynb\" target=\"_parent\"><img src=\"https://colab.research.google.com/assets/colab-badge.svg\" alt=\"Open In Colab\"/></a>"
      ]
    },
    {
      "cell_type": "markdown",
      "source": [
        "Consider that you have been hired by a Multiplex management organization to extract the information of the top 50 movies with the best average rating from the web link shared below."
      ],
      "metadata": {
        "id": "WastjH1jzTDG"
      }
    },
    {
      "cell_type": "markdown",
      "source": [
        "# Objectives\n",
        "By the end of this lab, you will be able to:\n",
        "\n",
        "*  Use the `requests` and `BeautifulSoup` libraries to extract the contents of a web page\n",
        "\n",
        "*  Analyze the `HTML` code of a webpage to find the relevant information\n",
        "\n",
        "*  Extract the relevant information and save it in the required form"
      ],
      "metadata": {
        "id": "70jkAAn2zf3U"
      }
    },
    {
      "cell_type": "markdown",
      "source": [
        "Consider that you have been hired by a Multiplex management organization to extract the information of the top 50 movies with the best average rating from the web link shared below.\n",
        "\n",
        "```\n",
        "https://web.archive.org/web/20230902185655/https://en.everybodywiki.com/100_Most_Highly-Ranked_Films\n",
        "```\n",
        "The information required is `Average Rank`, `Film`, and `Year`.\n",
        "You are required to write a Python script `webscraping_movies.py` that extracts the information and saves it to a `CSV` file `top_50_films.csv`. You are also required to save the same information to a database `Movies.db` under the table name `Top_50`."
      ],
      "metadata": {
        "id": "QwzqG-Cs1S3T"
      }
    },
    {
      "cell_type": "code",
      "source": [
        "#pip install bs4"
      ],
      "metadata": {
        "id": "MZP6CMK72fXv"
      },
      "execution_count": null,
      "outputs": []
    },
    {
      "cell_type": "code",
      "source": [
        "import sys\n",
        "import pandas as pd\n",
        "import bs4 as bs"
      ],
      "metadata": {
        "id": "qTTpFuSh1YXu"
      },
      "execution_count": 1,
      "outputs": []
    },
    {
      "cell_type": "code",
      "source": [
        "print(sys.version)\n",
        "print(sys.executable)"
      ],
      "metadata": {
        "colab": {
          "base_uri": "https://localhost:8080/"
        },
        "id": "S0Fo3Xx72GP_",
        "outputId": "1f752294-9774-4ed3-c38a-e2567389b9ee"
      },
      "execution_count": null,
      "outputs": [
        {
          "output_type": "stream",
          "name": "stdout",
          "text": [
            "3.10.12 (main, Jun 11 2023, 05:26:28) [GCC 11.4.0]\n",
            "/usr/bin/python3\n"
          ]
        }
      ]
    },
    {
      "cell_type": "markdown",
      "source": [
        "Initial steps\n",
        "You require the following libraries for this lab.\n",
        "\n",
        "1. `pandas` library for data storage and manipulation.\n",
        "2. `BeautifulSoup` library for interpreting the `HTML` document.\n",
        "3. `requests` library to communicate with the web page.\n",
        "4. `sqlite3` for creating the database instance.\n",
        "\n",
        "While `requests` and `sqlite3` come bundled with `Python3`, you need to install `pandas` and `BeautifulSoup` libraries to the IDE.\n",
        "\n",
        "For this, run the following commands in a terminal window.\n",
        "```\n",
        "python3.11 -m pip install pandas\n",
        "python3.11 -m pip install bs4\n",
        "```\n",
        "Copied!Executed!\n",
        "Now, create a new file by the name of `webscraping_movies.py` in the path `/home/project/`.\n",
        "\n",
        "You will write all of your code in this file."
      ],
      "metadata": {
        "id": "wT9ay_sB3tkW"
      }
    },
    {
      "cell_type": "markdown",
      "source": [
        "# Code setup\n",
        "To create a Python script, call the relevant libraries and the initializations as a first step.\n",
        "\n",
        "## Importing Libraries\n",
        "Import the following four libraries by adding lines of code noted below to your `webscraping_movies.py` file.\n",
        "\n"
      ],
      "metadata": {
        "id": "l6s2U0qr4Tao"
      }
    },
    {
      "cell_type": "code",
      "source": [
        "import requests\n",
        "import sqlite3\n",
        "import pandas as pd\n",
        "from bs4 import BeautifulSoup"
      ],
      "metadata": {
        "id": "elGiy4EX_iOr"
      },
      "execution_count": 2,
      "outputs": []
    },
    {
      "cell_type": "markdown",
      "source": [
        "##Initialization of known entities\n",
        "You must declare a few entities at the beginning. For example, you know the required `URL`, the `CSV` name for saving the record, the database name, and the table name for storing the record. You also know the entities to be saved. Additionally, since you require only the top 50 results, you will require a loop counter initialized to 0. You may initialize all these by using the following code in `webscraping_movies.py`:\n",
        "\n",
        "\n"
      ],
      "metadata": {
        "id": "QKKzijfh_poK"
      }
    },
    {
      "cell_type": "code",
      "source": [
        "url = 'https://web.archive.org/web/20230902185655/https://en.everybodywiki.com/100_Most_Highly-Ranked_Films'\n",
        "db_name = 'Movies.db'\n",
        "table_name = 'Top_50'\n",
        "#csv_path = '/home/project/top_50_films.csv'\n",
        "csv_path = '/content/top_50_films.csv'\n",
        "df = pd.DataFrame(columns=[\"Average Rank\",\"Film\",\"Year\"])\n",
        "count = 0"
      ],
      "metadata": {
        "id": "bK9hcA5K_WmX"
      },
      "execution_count": 10,
      "outputs": []
    },
    {
      "cell_type": "markdown",
      "source": [
        "##Loading the webpage for Webscraping\n",
        "\n",
        "To access the required information from the web page, you first need to load the entire web page as an `HTML` document in `python` using the `requests.get().text` function and then parse the text in the `HTML` format using `BeautifulSoup` to enable extraction of relevant information.\n",
        "\n",
        "Add the following code to `webscraping_movies.py`:\n",
        "\n"
      ],
      "metadata": {
        "id": "K8S1TLQ8_sZ2"
      }
    },
    {
      "cell_type": "code",
      "source": [
        "html_page = requests.get(url).text\n",
        "data = BeautifulSoup(html_page, 'html.parser')"
      ],
      "metadata": {
        "id": "RrbJsi72_vQ3"
      },
      "execution_count": 5,
      "outputs": []
    },
    {
      "cell_type": "markdown",
      "source": [
        "# Analyzing the HTML code for relevant information\n",
        "Open the web page in a browser and locate the required table by scrolling down to it. Right-click the table and click `Inspect` at the bottom of the menu, as shown in the image below.\n",
        "\n",
        "This opens the `HTML` code for the page and takes you directly to the point where the definition of the table begins. To check, take your mouse pointer to the `tbody` tag in the `HTML` code and see that the table is highlighted in the page section.\n",
        "\n",
        "Notice that all rows under this table are mentioned as `tr` objects under the table. Clicking one of them would show that the data in each row is further saved as a `td` object, as seen in the image above. You require the information under the first three headers of this stored data.\n",
        "\n",
        "It is also important to note that this is the first table on the page. You must identify the required table when extracting information.\n",
        "\n",
        "Previous\n"
      ],
      "metadata": {
        "id": "TAMls20R5j_5"
      }
    },
    {
      "cell_type": "markdown",
      "source": [
        "# Scraping of required information\n",
        "You now need to write the loop to extract the appropriate information from the web page. The rows of the table needed can be accessed using the find_all() function with the `BeautifulSoup` object using the statements below.\n"
      ],
      "metadata": {
        "id": "i6sLwaSO9Vle"
      }
    },
    {
      "cell_type": "code",
      "source": [
        "tables = data.find_all('tbody')\n",
        "rows = tables[0].find_all('tr')\n"
      ],
      "metadata": {
        "id": "bsbZSsqiArdG"
      },
      "execution_count": 6,
      "outputs": []
    },
    {
      "cell_type": "markdown",
      "source": [
        "\n",
        "Here, the variable `tables` gets the body of all the tables in the web page and the variable `rows` gets all the rows of the first table.\n",
        "\n",
        "You can now iterate over the rows to find the required data. Use the code shown below to extract the information.\n",
        "\n"
      ],
      "metadata": {
        "id": "TQnmEwpACH7U"
      }
    },
    {
      "cell_type": "code",
      "source": [
        "for row in rows:\n",
        "    if count<50:\n",
        "        col = row.find_all('td')\n",
        "        if len(col)!=0:\n",
        "            data_dict = {\"Average Rank\": col[0].contents[0],\n",
        "                         \"Film\": col[1].contents[0],\n",
        "                         \"Year\": col[2].contents[0]}\n",
        "            df1 = pd.DataFrame(data_dict, index=[0])\n",
        "            df = pd.concat([df,df1], ignore_index=True)\n",
        "            count+=1\n",
        "    else:\n",
        "        break"
      ],
      "metadata": {
        "id": "UdTLXZMpCLDv"
      },
      "execution_count": 7,
      "outputs": []
    },
    {
      "cell_type": "markdown",
      "source": [
        "The code functions as follows.\n",
        "\n",
        "1.   Iterate over the contents of the variable `rows`.\n",
        "2.   Check for the loop counter to restrict to 50 entries.\n",
        "3.   Extract all the `td` data objects in the row and save them to `col`.\n",
        "4.   Check if the length of `col` is 0, that is, if there is no data in a current row. This is important since, many timesm there are merged rows that are not apparent in the web page appearance.\n",
        "5.   Create a dictionary `data_dict` with the keys same as the columns of the dataframe created for recording the output earlier and corresponding values from the first three headers of data.\n",
        "6.   Convert the dictionary to a dataframe and concatenate it with the existing one. This way, the data keeps getting appended to the dataframe with every iteration of the loop.\n",
        "7.   Increment the loop counter.\n",
        "8.   Once the counter hits 50, stop iterating over rows and break the loop.\n",
        "\n",
        "Print the contents of the dataframe using the following:\n"
      ],
      "metadata": {
        "id": "DeKoj_aqCOFP"
      }
    },
    {
      "cell_type": "code",
      "source": [
        "print(df)"
      ],
      "metadata": {
        "colab": {
          "base_uri": "https://localhost:8080/"
        },
        "id": "i-TwuIGOCSa0",
        "outputId": "a8ad2481-9fe7-48e8-d188-04e45dd9bc36"
      },
      "execution_count": 8,
      "outputs": [
        {
          "output_type": "stream",
          "name": "stdout",
          "text": [
            "   Average Rank                                           Film  Year\n",
            "0             1                                  The Godfather  1972\n",
            "1             2                                   Citizen Kane  1941\n",
            "2             3                                     Casablanca  1942\n",
            "3             4                         The Godfather, Part II  1974\n",
            "4             5                            Singin' in the Rain  1952\n",
            "5             6                                         Psycho  1960\n",
            "6             7                                    Rear Window  1954\n",
            "7             8                                 Apocalypse Now  1979\n",
            "8             9                          2001: A Space Odyssey  1968\n",
            "9            10                                  Seven Samurai  1954\n",
            "10           11                                        Vertigo  1958\n",
            "11           12                                    Sunset Blvd  1950\n",
            "12           13                                   Modern Times  1936\n",
            "13           14                             Lawrence of Arabia  1962\n",
            "14           15                             North by Northwest  1959\n",
            "15           16                                      Star Wars  1977\n",
            "16           17                                       Parasite  2019\n",
            "17           18                               Schindler's List  1993\n",
            "18           19  Lord of the Rings: The Fellowship of the Ring  2001\n",
            "19           20                           Shawshank Redemption  1994\n",
            "20           21                          It's a Wonderful Life  1946\n",
            "21           22                                   Pulp Fiction  1994\n",
            "22           23                              Avengers: Endgame  2019\n",
            "23           24                                    City Lights  1931\n",
            "24           25                One Flew Over the Cuckoo's Nest  1975\n",
            "25           26                                     Goodfellas  1990\n",
            "26           27                        Raiders of the Lost Ark  1981\n",
            "27           28                                   12 Angry Men  1957\n",
            "28           29                       The Silence of the Lambs  1991\n",
            "29           30                                    Taxi Driver  1976\n",
            "30           31                            Saving Private Ryan  1998\n",
            "31           32                     E.T. the Extra Terrestrial  1982\n",
            "32           33                                          Alien  1979\n",
            "33           34              Spider-Man: Into the Spider-verse  2018\n",
            "34           35                                   Blade Runner  1982\n",
            "35           36                               Double Indemnity  1944\n",
            "36           37                                The Dark Knight  2008\n",
            "37           38                               The Wizard of Oz  1939\n",
            "38           39  Star Wars: Episode V- The Empire Strikes Back  1980\n",
            "39           40                                  The Searchers  1956\n",
            "40           41                             Mad Max: Fury Road  2015\n",
            "41           42                                      Inception  2010\n",
            "42           43          Lord of the Rings: Return of the King  2003\n",
            "43           44                                     The Matrix  1999\n",
            "44           45                                     Fight Club  1999\n",
            "45           46                             Back to the Future  1985\n",
            "46           47                          It Happened One Night  1934\n",
            "47           48                The Good, the Bad, and the Ugly  1966\n",
            "48           49              Lord of the Rings: The Two Towers  2002\n",
            "49           50                                  All About Eve  1950\n"
          ]
        }
      ]
    },
    {
      "cell_type": "markdown",
      "source": [
        "# Storing the data\n",
        "After the dataframe has been created, you can save it to a CSV file using the following command:\n"
      ],
      "metadata": {
        "id": "e0F4yYUe-e0_"
      }
    },
    {
      "cell_type": "code",
      "source": [
        "df.to_csv(csv_path)"
      ],
      "metadata": {
        "id": "LNhnLIwMCZ1D"
      },
      "execution_count": 11,
      "outputs": []
    },
    {
      "cell_type": "markdown",
      "source": [
        "Remember that you defined the variable `csv_path` earlier.\n",
        "\n",
        "To store the required data in a database, you first need to initialize a connection to the database, save the dataframe as a table, and then close the connection. This can be done using the following code:\n"
      ],
      "metadata": {
        "id": "7UUHTD_rC6Hl"
      }
    },
    {
      "cell_type": "code",
      "source": [
        "conn = sqlite3.connect(db_name)\n",
        "df.to_sql(table_name, conn, if_exists='replace', index=False)\n",
        "conn.close()"
      ],
      "metadata": {
        "id": "dxpDgn5gC-Cz"
      },
      "execution_count": 12,
      "outputs": []
    },
    {
      "cell_type": "markdown",
      "source": [
        "\n",
        "This database can now be used to retrieve the relevant information using SQL queries. You will learn how to do that later in the course."
      ],
      "metadata": {
        "id": "OTxhnxE-DABZ"
      }
    },
    {
      "cell_type": "markdown",
      "source": [
        "# Practice problems\n",
        "Try the following practice problems to test your understanding of the lab. Please note that the solutions for the following are not shared. You are encouraged to use the discussion forums in case you need help.\n",
        "\n",
        "1. Modify the code to extract `Film`, `Year`, and `Rotten Tomatoes' Top 100` headers.\n",
        "\n",
        "2. Restrict the results to only the top 25 entries.\n",
        "\n",
        "3. Filter the output to print only the films released in the 2000s (year 2000 included)."
      ],
      "metadata": {
        "id": "QQTdVkgEDUk-"
      }
    },
    {
      "cell_type": "code",
      "source": [
        "###############################################################################"
      ],
      "metadata": {
        "id": "AJmvvi_-DeTw"
      },
      "execution_count": 13,
      "outputs": []
    },
    {
      "cell_type": "markdown",
      "source": [
        "# What is SQLite3?\n",
        "SQLite3 is an in-process Python library that implements a self-contained, serverless, zero-configuration, transactional SQL database engine. It is a popular choice as an embedded database for local/client storage in application software.\n",
        "\n",
        "## How to connect to the SQLite3?\n",
        "You can connect to SQLIte3 using the connect() function by passing the required database name as an argument."
      ],
      "metadata": {
        "id": "s9dYAOBSD3oX"
      }
    },
    {
      "cell_type": "code",
      "source": [
        "import sqlite3\n",
        "sql_connection = sqlite3.connect('database.db')"
      ],
      "metadata": {
        "id": "EWL9DZvuD88A"
      },
      "execution_count": 14,
      "outputs": []
    },
    {
      "cell_type": "markdown",
      "source": [
        "This makes the variable `sql_connection` an object of the SQL code engine. You can then use this to run the required queries on the database.\n",
        "### How to create a database table using SQLite3 and Pandas?\n",
        "You can directly load a Pandas dataframe to a SQLite3 database object using the following syntax."
      ],
      "metadata": {
        "id": "rfEUi9jeESlP"
      }
    },
    {
      "cell_type": "code",
      "source": [
        "df.to_sql(table_name, sql_connection, if_exists = 'replace', index = False)"
      ],
      "metadata": {
        "colab": {
          "base_uri": "https://localhost:8080/"
        },
        "id": "SDTzsWS0EKMJ",
        "outputId": "b868f9e7-0229-4c5e-ea09-cde21358bd36"
      },
      "execution_count": 15,
      "outputs": [
        {
          "output_type": "execute_result",
          "data": {
            "text/plain": [
              "0"
            ]
          },
          "metadata": {},
          "execution_count": 15
        }
      ]
    },
    {
      "cell_type": "markdown",
      "source": [
        "Here, you use the `to_sql()` function to convert the `pandas` dataframe to an SQL table.\n",
        "\n",
        "The `table_name` and `sql_connection` arguments specify the name of the required table and the database to which you should load the dataframe.\n",
        "\n",
        "The `if_exists` parameter can take any one of three possible values:\n",
        "`'fail'`: This denies the creation of a table if one with the same name exists in the database already.\n",
        "`'replace'`: This overwrites the existing table with the same name.\n",
        "`'append'`: This adds information to the existing table with the same name.\n",
        "\n",
        "Keep the `index` parameter set to `True` only if the index of the data being sent holds some informational value. Otherwise, keep it as `False`.\n",
        "\n",
        "## How to query a database table using SQLite3 and Pandas?\n",
        "You can use the Pandas function `read_sql()` to query a database table.\n",
        "\n",
        "The function returns a Pandas dataframe with the output to the query. Use the function with the following syntax:"
      ],
      "metadata": {
        "id": "9fH5agvnErvm"
      }
    },
    {
      "cell_type": "code",
      "source": [
        "df = pandas.read_sql(query_statement, sql_connection)"
      ],
      "metadata": {
        "id": "RYr7EB1BFSbx"
      },
      "execution_count": null,
      "outputs": []
    },
    {
      "cell_type": "markdown",
      "source": [
        "Here, the `query_statement` argument contains the complete query to the required table as a string.\n",
        "\n",
        "## Example Queries\n",
        "Some typical queries with their meanings are shown in the table below.\n",
        "\n",
        "|Query statement\t|Purpose\n",
        "|:---|:---|\n",
        "|SELECT * FROM table_name\t|Retrieve all entries of the table.|\n",
        "|SELECT COUNT(*) FROM table_name\t|Retrieve total number of entries in the table.|\n",
        "|SELECT Column_name FROM table_name\t|Retrieve all entries of a specific column in the table.|\n",
        "|SELECT * FROM table_name WHERE <condition>|\tRetrieve all entries of the table that meet the specified condition.|"
      ],
      "metadata": {
        "id": "8EwcpnYsFVPp"
      }
    }
  ]
}